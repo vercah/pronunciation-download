{
 "cells": [
  {
   "cell_type": "code",
   "execution_count": 42,
   "metadata": {},
   "outputs": [
    {
     "name": "stdout",
     "output_type": "stream",
     "text": [
      "Hello World!\n"
     ]
    }
   ],
   "source": [
    "print(\"Hello World!\")"
   ]
  },
  {
   "cell_type": "code",
   "execution_count": 43,
   "metadata": {},
   "outputs": [],
   "source": [
    "#nastavování a zprovozňování driveru\n",
    "from selenium import webdriver\n",
    "from bs4 import BeautifulSoup\n",
    "from pathlib import Path\n",
    "import requests"
   ]
  },
  {
   "cell_type": "markdown",
   "metadata": {},
   "source": [
    "Stejná slova mohou být různé slovní druhy a bohužel se to nedá rozlišit jinak než tak, že do proměnné \"druh\" napíšu explicitně co to má být. Zde je nápověda k různým slovním druhům:\n",
    "\n",
    "Podstatná jména: \"section-subst\"\n",
    "\n",
    "Přídavná jména: \"section-adjadv\"\n",
    "\n",
    "Slovesa: \"section-verb\"\n",
    "\n",
    "Předložky: \"section-praep\""
   ]
  },
  {
   "cell_type": "code",
   "execution_count": 44,
   "metadata": {},
   "outputs": [],
   "source": [
    "druh = \"section-verb\"\n",
    "slova = [\"arbeiten\", \"sehen\", \"gehen\"]"
   ]
  },
  {
   "cell_type": "code",
   "execution_count": 45,
   "metadata": {},
   "outputs": [],
   "source": [
    "driver = webdriver.Firefox()\n",
    "for i in range(0,len(slova)):\n",
    "    #vyhledání slova\n",
    "    driver.get(\"https://dict.leo.org/englisch-deutsch/\")\n",
    "    driver.find_element_by_id(\"search-field\").send_keys(slova[i])\n",
    "    driver.find_element_by_id(\"searchFieldSubmit\").click()\n",
    "\n",
    "    #stažení html s odkazem na výslovnost\n",
    "    content_js = driver.find_element_by_id(druh)\n",
    "    content_html = content_js.get_attribute(\"innerHTML\")\n",
    "    soup = BeautifulSoup(content_html, \"html.parser\")\n",
    "\n",
    "    #vyždímám ze soup svůj odkaz, je to vždy až druhá výslovnost, proto findAll[1]\n",
    "    odkaz = soup.findAll('i', attrs={'class':\"icon noselect icon_play-circle-outline icon_size_18 darkgray is-clickable\"})[1].get(\"data-dz-rel-audio\")\n",
    "\n",
    "    #najití a stažení slova\n",
    "    adresaSlova = \"http://dict.leo.org/media/audio/\" + odkaz + \".mp3\"\n",
    "    cesta = Path(\"C:/VERČA/AudioMemrise/němčina/\"+slova[i]+\".mp3\")    \n",
    "    r = requests.get(adresaSlova)\n",
    "    with open(cesta, 'wb') as f:\n",
    "        f.write(r.content)\n",
    "\n",
    "driver.quit()"
   ]
  },
  {
   "cell_type": "markdown",
   "metadata": {},
   "source": [
    "Užitečné:\n",
    "\n",
    "stahování mp3 a změna directory: https://stackoverflow.com/questions/44699682/how-to-save-a-file-downloaded-from-requests-to-another-directory/44699728"
   ]
  }
 ],
 "metadata": {
  "kernelspec": {
   "display_name": "Python 3",
   "language": "python",
   "name": "python3"
  },
  "language_info": {
   "codemirror_mode": {
    "name": "ipython",
    "version": 3
   },
   "file_extension": ".py",
   "mimetype": "text/x-python",
   "name": "python",
   "nbconvert_exporter": "python",
   "pygments_lexer": "ipython3",
   "version": "3.7.6"
  }
 },
 "nbformat": 4,
 "nbformat_minor": 4
}
