{
 "cells": [
  {
   "cell_type": "code",
   "execution_count": 42,
   "metadata": {},
   "outputs": [
    {
     "name": "stdout",
     "output_type": "stream",
     "text": [
      "Hello World!\n"
     ]
    }
   ],
   "source": [
    "print(\"Hello World!\")"
   ]
  },
  {
   "cell_type": "code",
   "execution_count": 43,
   "metadata": {},
   "outputs": [],
   "source": [
    "#get the driver to work\n",
    "from selenium import webdriver\n",
    "from bs4 import BeautifulSoup\n",
    "from pathlib import Path\n",
    "import requests"
   ]
  },
  {
   "cell_type": "markdown",
   "metadata": {},
   "source": [
    "Same words can be a different part of speech, the only way to differentiate between them is to give the variable \"speech\" explicitly the desired part of speech. Here is some legend:\n",
    "\n",
    "nouns: \"section-subst\"\n",
    "\n",
    "adjectives: \"section-adjadv\"\n",
    "\n",
    "verbs: \"section-verb\"\n",
    "\n",
    "prepositions: \"section-praep\""
   ]
  },
  {
   "cell_type": "code",
   "execution_count": 44,
   "metadata": {},
   "outputs": [],
   "source": [
    "speech = \"section-verb\"\n",
    "words = [\"arbeiten\", \"sehen\", \"gehen\"]"
   ]
  },
  {
   "cell_type": "code",
   "execution_count": 45,
   "metadata": {},
   "outputs": [],
   "source": [
    "driver = webdriver.Firefox()\n",
    "for i in range(0,len(words)):\n",
    "    #vyhledání slova\n",
    "    driver.get(\"https://dict.leo.org/englisch-deutsch/\")\n",
    "    driver.find_element_by_id(\"search-field\").send_keys(words[i])\n",
    "    driver.find_element_by_id(\"searchFieldSubmit\").click()\n",
    "\n",
    "    #stažení html s odkazem na výslovnost\n",
    "    content_js = driver.find_element_by_id(speech)\n",
    "    content_html = content_js.get_attribute(\"innerHTML\")\n",
    "    soup = BeautifulSoup(content_html, \"html.parser\")\n",
    "\n",
    "    #get the link from soup, it's always the second link, that's why findAll[1]\n",
    "    link = soup.findAll('i', attrs={'class':\"icon noselect icon_play-circle-outline icon_size_18 darkgray is-clickable\"})[1].get(\"data-dz-rel-audio\")\n",
    "\n",
    "    #find and download the word\n",
    "    wordaddress = \"http://dict.leo.org/media/audio/\" + link + \".mp3\"\n",
    "    mypath = Path(SOME PATH OF MINE)    \n",
    "    r = requests.get(wordaddress)\n",
    "    with open(mypath, 'wb') as f:\n",
    "        f.write(r.content)\n",
    "\n",
    "driver.quit()"
   ]
  },
  {
   "cell_type": "markdown",
   "metadata": {},
   "source": [
    "Useful:\n",
    "\n",
    "download mp3 and change of directory: https://stackoverflow.com/questions/44699682/how-to-save-a-file-downloaded-from-requests-to-another-directory/44699728"
   ]
  }
 ],
 "metadata": {
  "kernelspec": {
   "display_name": "Python 3",
   "language": "python",
   "name": "python3"
  },
  "language_info": {
   "codemirror_mode": {
    "name": "ipython",
    "version": 3
   },
   "file_extension": ".py",
   "mimetype": "text/x-python",
   "name": "python",
   "nbconvert_exporter": "python",
   "pygments_lexer": "ipython3",
   "version": "3.7.6"
  }
 },
 "nbformat": 4,
 "nbformat_minor": 4
}
